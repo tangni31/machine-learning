{
 "cells": [
  {
   "cell_type": "code",
   "execution_count": 4,
   "metadata": {},
   "outputs": [],
   "source": [
    "import numpy as np\n",
    "from sklearn.preprocessing import StandardScaler\n",
    "import matplotlib\n",
    "import math\n",
    "import matplotlib.pyplot as plt\n",
    "%matplotlib inline\n",
    "\n"
   ]
  },
  {
   "cell_type": "code",
   "execution_count": 5,
   "metadata": {
    "scrolled": true
   },
   "outputs": [
    {
     "name": "stdout",
     "output_type": "stream",
     "text": [
      "[[  7.00000000e+00   2.70000000e-01   3.60000000e-01 ...,   8.80000000e+00\n",
      "    6.00000000e+00   7.54697205e-01]\n",
      " [  6.30000000e+00   3.00000000e-01   3.40000000e-01 ...,   9.50000000e+00\n",
      "    6.00000000e+00   6.65575384e-03]\n",
      " [  8.10000000e+00   2.80000000e-01   4.00000000e-01 ...,   1.01000000e+01\n",
      "    6.00000000e+00   2.31103669e-01]\n",
      " ..., \n",
      " [  6.50000000e+00   2.40000000e-01   1.90000000e-01 ...,   9.40000000e+00\n",
      "    6.00000000e+00   6.35963214e-01]\n",
      " [  5.50000000e+00   2.90000000e-01   3.00000000e-01 ...,   1.28000000e+01\n",
      "    7.00000000e+00   7.20571531e-01]\n",
      " [  6.00000000e+00   2.10000000e-01   3.80000000e-01 ...,   1.18000000e+01\n",
      "    6.00000000e+00   1.18534545e-01]]\n",
      "(4898, 13)\n"
     ]
    }
   ],
   "source": [
    "white_data = np.loadtxt('WhiteWine.txt')\n",
    "print (white_data)\n",
    "print (white_data.shape)"
   ]
  },
  {
   "cell_type": "code",
   "execution_count": 6,
   "metadata": {},
   "outputs": [
    {
     "name": "stdout",
     "output_type": "stream",
     "text": [
      "[[  7.4          0.7          0.         ...,   9.4          5.\n",
      "    0.19621208]\n",
      " [  7.8          0.88         0.         ...,   9.8          5.\n",
      "    0.02017723]\n",
      " [  7.8          0.76         0.04       ...,   9.8          5.\n",
      "    0.75699829]\n",
      " ..., \n",
      " [  6.3          0.51         0.13       ...,  11.           6.\n",
      "    0.12639743]\n",
      " [  5.9          0.645        0.12       ...,  10.2          5.\n",
      "    0.39249167]\n",
      " [  6.           0.31         0.47       ...,  11.           6.\n",
      "    0.76193799]]\n",
      "(1599, 13)\n"
     ]
    }
   ],
   "source": [
    "red_data = np.loadtxt('RedWine.txt')\n",
    "print (red_data)\n",
    "print (red_data.shape)"
   ]
  },
  {
   "cell_type": "code",
   "execution_count": 7,
   "metadata": {},
   "outputs": [
    {
     "name": "stdout",
     "output_type": "stream",
     "text": [
      "[[  7.00000000e+00   2.70000000e-01   3.60000000e-01 ...,   8.80000000e+00\n",
      "    6.00000000e+00   7.54697205e-01]\n",
      " [  6.30000000e+00   3.00000000e-01   3.40000000e-01 ...,   9.50000000e+00\n",
      "    6.00000000e+00   6.65575384e-03]\n",
      " [  8.10000000e+00   2.80000000e-01   4.00000000e-01 ...,   1.01000000e+01\n",
      "    6.00000000e+00   2.31103669e-01]\n",
      " ..., \n",
      " [  6.30000000e+00   5.10000000e-01   1.30000000e-01 ...,   1.10000000e+01\n",
      "    6.00000000e+00   1.26397426e-01]\n",
      " [  5.90000000e+00   6.45000000e-01   1.20000000e-01 ...,   1.02000000e+01\n",
      "    5.00000000e+00   3.92491675e-01]\n",
      " [  6.00000000e+00   3.10000000e-01   4.70000000e-01 ...,   1.10000000e+01\n",
      "    6.00000000e+00   7.61937991e-01]]\n",
      "(6497, 13)\n",
      "[[-0.16608919 -0.42318303  0.28468605 ..., -1.41855821  0.20799905\n",
      "   0.88855302]\n",
      " [-0.70607349 -0.24094936  0.14704613 ..., -0.83161516  0.20799905\n",
      "  -1.68935618]\n",
      " [ 0.68245757 -0.36243847  0.55996589 ..., -0.32852111  0.20799905\n",
      "  -0.91586115]\n",
      " ..., \n",
      " [-0.70607349  1.03468634 -1.29817304 ...,  0.42611996  0.20799905\n",
      "  -1.27670103]\n",
      " [-1.01463595  1.85473786 -1.366993   ..., -0.2446721  -0.93722961\n",
      "  -0.35968391]\n",
      " [-0.93749534 -0.1802048   1.04170561 ...,  0.42611996  0.20799905\n",
      "   0.9135063 ]]\n"
     ]
    }
   ],
   "source": [
    "data = np.row_stack((white_data, red_data))\n",
    "data_std = StandardScaler().fit_transform(data)\n",
    "print (data_std)"
   ]
  },
  {
   "cell_type": "code",
   "execution_count": 8,
   "metadata": {},
   "outputs": [
    {
     "name": "stdout",
     "output_type": "stream",
     "text": [
      "[[-0.16608919 -0.42318303  0.28468605 ..., -1.41855821  0.20799905\n",
      "   0.88855302]\n",
      " [-0.70607349 -0.24094936  0.14704613 ..., -0.83161516  0.20799905\n",
      "  -1.68935618]\n",
      " [ 0.68245757 -0.36243847  0.55996589 ..., -0.32852111  0.20799905\n",
      "  -0.91586115]\n",
      " ..., \n",
      " [-0.55179227 -0.6054167  -0.88525328 ..., -0.91546416  0.20799905\n",
      "   0.47937055]\n",
      " [-1.32319841 -0.30169391 -0.12823371 ...,  1.9354021   1.35322771\n",
      "   0.77094872]\n",
      " [-0.93749534 -0.78765037  0.42232597 ...,  1.09691202  0.20799905\n",
      "  -1.30379818]]\n",
      "(4898, 13)\n",
      "(1599, 13)\n"
     ]
    }
   ],
   "source": [
    "white_std = data_std[0:4898]\n",
    "print(white_std)\n",
    "print(white_std.shape)\n",
    "red_std = data_std[4898:]\n",
    "print(red_std.shape)"
   ]
  },
  {
   "cell_type": "code",
   "execution_count": 47,
   "metadata": {
    "scrolled": false
   },
   "outputs": [
    {
     "data": {
      "text/plain": [
       "<matplotlib.collections.PathCollection at 0x297ccc70eb8>"
      ]
     },
     "execution_count": 47,
     "metadata": {},
     "output_type": "execute_result"
    },
    {
     "data": {
      "image/png": "[encoded data removed]",
      "text/plain": [
       "<matplotlib.figure.Figure at 0x297ccc087f0>"
      ]
     },
     "metadata": {},
     "output_type": "display_data"
    }
   ],
   "source": [
    "plt.scatter(white_data[:, 9], white_data[:,5])\n",
    "plt.scatter(red_data[:, 9], red_data[:, 5])"
   ]
  },
  {
   "cell_type": "code",
   "execution_count": 9,
   "metadata": {},
   "outputs": [],
   "source": [
    "def comput_Sb(x,y):\n",
    "    len_total = len(x)+len(y)\n",
    "    ux = comput_u(x)\n",
    "    uy = comput_u(y)\n",
    "    u0 = comput_u(np.row_stack((x,y)))\n",
    "    Sb = len(x)/len_total*(ux - u0)@(ux - u0).T + len(y)/len_total*(uy - u0)@(uy - u0).T\n",
    "    return Sb      "
   ]
  },
  {
   "cell_type": "code",
   "execution_count": 10,
   "metadata": {},
   "outputs": [],
   "source": [
    "def variance(data):\n",
    "    n = len(data)\n",
    "    u = comput_u(data)\n",
    "    sum = np.zeros(shape=(data.shape[1],data.shape[1]))\n",
    "    for x in data:\n",
    "        a = np.zeros(shape=(1,x.shape[0]))\n",
    "        x = x+a\n",
    "        x = x.T\n",
    "        sum += (x-u)@(x-u).T\n",
    "    return sum/n   "
   ]
  },
  {
   "cell_type": "code",
   "execution_count": 11,
   "metadata": {},
   "outputs": [],
   "source": [
    "def comput_Sw(x,y):\n",
    "    ox = variance(x)\n",
    "    oy = variance(y)\n",
    "    n = len(x)+len(y)\n",
    "    return (len(x)/n * ox + len(y)/n * oy)   "
   ]
  },
  {
   "cell_type": "code",
   "execution_count": 12,
   "metadata": {},
   "outputs": [],
   "source": [
    "def comput_u(data):\n",
    "    n = len(data)\n",
    "    sum = np.zeros(shape=(1,data.shape[1]))\n",
    "    for x in data:\n",
    "        sum += x\n",
    "    return (sum/n).T   "
   ]
  },
  {
   "cell_type": "code",
   "execution_count": 13,
   "metadata": {},
   "outputs": [],
   "source": [
    "def fisher_ratio(x,y):\n",
    "    Sw = comput_Sw(x,y)\n",
    "    Sb = comput_Sb(x,y)\n",
    "    I = np.eye(Sw.shape[0],Sw.shape[1])\n",
    "    inv = np.linalg.inv(Sw+0.0001*I)\n",
    "    return np.trace(Sb@inv)"
   ]
  },
  {
   "cell_type": "code",
   "execution_count": 26,
   "metadata": {},
   "outputs": [
    {
     "name": "stdout",
     "output_type": "stream",
     "text": [
      "7630.42618406\n"
     ]
    }
   ],
   "source": [
    "a = fisher_ratio(white_std,red_std)\n",
    "print(a)"
   ]
  },
  {
   "cell_type": "code",
   "execution_count": 14,
   "metadata": {},
   "outputs": [],
   "source": [
    "#FFS \n",
    "def ffs(x,y):\n",
    "    fisher_max_list = []\n",
    "    feature_index_max = []\n",
    "    index_list = []\n",
    "    for i in range(0,x.shape[1]):\n",
    "        index_list.append(i)    \n",
    "    for i in range(1,x.shape[1]+1):\n",
    "        if len(feature_index_max) > 0:\n",
    "            x_i = x[:,feature_index_max[0]]\n",
    "            y_i = y[:,feature_index_max[0]]\n",
    "            for k in range(1,len(feature_index_max)):\n",
    "                x_i = np.row_stack((x_i,x[:,feature_index_max[k]]))\n",
    "                y_i = np.row_stack((y_i,y[:,feature_index_max[k]]))\n",
    "            x_temp = x_i\n",
    "            y_temp = y_i\n",
    "            f =1\n",
    "        else: f = 0\n",
    "        fisher_max = 0\n",
    "        feature_index = 0\n",
    "        for j in index_list:\n",
    "            if f == 0:\n",
    "                x_i = x[:,j]\n",
    "                a = np.zeros(shape=(1,x_i.shape[0]))\n",
    "                x_i = x_i + a\n",
    "                y_i = y[:,j]\n",
    "                b = np.zeros(shape=(1,y_i.shape[0]))\n",
    "                y_i = y_i + b\n",
    "            else:\n",
    "                x_i = np.row_stack((x_temp,x[:,j]))\n",
    "                y_i = np.row_stack((y_temp,y[:,j]))\n",
    "            fisher = fisher_ratio(x_i.T,y_i.T)\n",
    "            if fisher > fisher_max:\n",
    "                fisher_max = fisher\n",
    "                feature_index = j\n",
    "        feature_index_max.append(feature_index)\n",
    "        index_list.remove(feature_index)\n",
    "        fisher_max_list.append(fisher_max)\n",
    "    return fisher_max_list,feature_index_max\n",
    "        "
   ]
  },
  {
   "cell_type": "code",
   "execution_count": 15,
   "metadata": {},
   "outputs": [],
   "source": [
    "list1=[]\n",
    "list2=[]\n",
    "list1,list2 = ffs(white_std,red_std)"
   ]
  },
  {
   "cell_type": "code",
   "execution_count": 16,
   "metadata": {},
   "outputs": [
    {
     "name": "stdout",
     "output_type": "stream",
     "text": [
      "[0.96252018154867214, 1.953823760647996, 3.3252901618246256, 4.3455269359338633, 5.2219909718836179, 5.5574187597351488, 5.8382597370645311, 6.0193279197098573, 6.0937662587641794, 6.1543488784121534, 6.2163134562993747, 6.2613040508275244, 6.2614201502494584]\n",
      "[6, 7, 3, 1, 10, 5, 0, 4, 8, 9, 2, 11, 12]\n"
     ]
    }
   ],
   "source": [
    "print(list1)\n",
    "print(list2)"
   ]
  },
  {
   "cell_type": "code",
   "execution_count": 17,
   "metadata": {
    "scrolled": true
   },
   "outputs": [
    {
     "data": {
      "text/plain": [
       "<matplotlib.text.Text at 0x1ab090ade80>"
      ]
     },
     "execution_count": 17,
     "metadata": {},
     "output_type": "execute_result"
    },
    {
     "data": {
      "image/png": "[encoded data removed]",
      "text/plain": [
       "<matplotlib.figure.Figure at 0x1ab0903b0f0>"
      ]
     },
     "metadata": {},
     "output_type": "display_data"
    }
   ],
   "source": [
    "xrange = np.arange(1,14,1)\n",
    "p1 = plt.plot(xrange, list1, 'g')\n",
    "plt.ylabel('fisher_ratio') \n",
    "plt.xlabel('number of features')\n",
    "plt.title('FFS')"
   ]
  },
  {
   "cell_type": "code",
   "execution_count": 18,
   "metadata": {},
   "outputs": [],
   "source": [
    "#BFS\n",
    "def bfs(x,y):\n",
    "    fisher = fisher_ratio(x,y)#13\n",
    "    fisher_max_list = [fisher]\n",
    "    index_list = []\n",
    "    x_i = x\n",
    "    y_i = y\n",
    "    for i in range (1,13):\n",
    "        fisher_max = 0\n",
    "        if len(index_list) != 0:\n",
    "            x_i = np.delete(x_i,index_list[-1],1)\n",
    "            y_i = np.delete(y_i,index_list[-1],1)\n",
    "        l = (x_i.shape[1])\n",
    "        for j in range(0,l):\n",
    "            x_j = np.column_stack((x_i[:,0:j],x_i[:,j+1:l]))\n",
    "            y_j = np.column_stack((y_i[:,0:j],y_i[:,j+1:l]))\n",
    "            fisher = fisher_ratio(x_j,y_j)\n",
    "            if fisher > fisher_max:\n",
    "                fisher_max = fisher\n",
    "                j_max = j\n",
    "        index_list.append(j_max)\n",
    "        fisher_max_list.append(fisher_max)\n",
    "    return index_list,fisher_max_list"
   ]
  },
  {
   "cell_type": "code",
   "execution_count": 19,
   "metadata": {},
   "outputs": [
    {
     "name": "stdout",
     "output_type": "stream",
     "text": [
      "[12, 11, 2, 8, 7, 3, 0, 2, 4, 0, 0, 1]\n",
      "[6.261420150249454, 6.26130405082752, 6.2163134562993712, 6.1543488784121489, 6.0937662587641741, 6.0193279197098519, 5.8382597370645284, 5.5574187597351514, 5.2219909718836206, 4.3455269359338651, 3.3252901618246251, 1.953823760647996, 0.96252018154867214]\n"
     ]
    }
   ],
   "source": [
    "list3=[]\n",
    "list4=[]\n",
    "list3,list4 = bfs(white_std,red_std)\n",
    "print(list3)\n",
    "print(list4)"
   ]
  },
  {
   "cell_type": "code",
   "execution_count": 20,
   "metadata": {},
   "outputs": [
    {
     "data": {
      "text/plain": [
       "<matplotlib.text.Text at 0x1ab09169438>"
      ]
     },
     "execution_count": 20,
     "metadata": {},
     "output_type": "execute_result"
    },
    {
     "data": {
      "image/png": "[encoded data removed]",
      "text/plain": [
       "<matplotlib.figure.Figure at 0x1ab0902bda0>"
      ]
     },
     "metadata": {},
     "output_type": "display_data"
    }
   ],
   "source": [
    "xrange = np.arange(1,14,1)\n",
    "list4.reverse()\n",
    "p1 = plt.plot(xrange, list4, 'g')\n",
    "plt.ylabel('fisher_ratio') \n",
    "plt.xlabel('number of features')\n",
    "plt.title('BFS')"
   ]
  },
  {
   "cell_type": "code",
   "execution_count": null,
   "metadata": {},
   "outputs": [],
   "source": []
  }
 ],
 "metadata": {
  "kernelspec": {
   "display_name": "Python 3",
   "language": "python",
   "name": "python3"
  },
  "language_info": {
   "codemirror_mode": {
    "name": "ipython",
    "version": 3
   },
   "file_extension": ".py",
   "mimetype": "text/x-python",
   "name": "python",
   "nbconvert_exporter": "python",
   "pygments_lexer": "ipython3",
   "version": "3.6.2"
  }
 },
 "nbformat": 4,
 "nbformat_minor": 2
}
