{
 "cells": [
  {
   "cell_type": "code",
   "execution_count": 2,
   "metadata": {},
   "outputs": [],
   "source": [
    "import numpy as np\n",
    "import math\n",
    "import matplotlib\n",
    "import matplotlib.pyplot as plt\n",
    "import random\n",
    "%matplotlib inline\n",
    
   ]
  },
  {
   "cell_type": "code",
   "execution_count": 3,
   "metadata": {},
   "outputs": [],
   "source": [
    "data = np.loadtxt('NeuralNetwork_Data.txt')"
   ]
  },
  {
   "cell_type": "code",
   "execution_count": 4,
   "metadata": {},
   "outputs": [],
   "source": [
    "#activation function\n",
    "def f(x):  #activation f(x)\n",
    "    return np.tanh(x)\n",
    "def f1(x):  #f'(x)\n",
    "    return 1.0 - np.tanh(x)*np.tanh(x)\n"
   ]
  },
  {
   "cell_type": "code",
   "execution_count": 5,
   "metadata": {},
   "outputs": [],
   "source": [
    "class neuralnetwork:\n",
    "    def __init__ (self,layers):\n",
    "        self.layers = layers\n",
    "        self.act = f        #activation f(x)\n",
    "        self.act_de = f1    #f'(x)\n",
    "        self.weights = []\n",
    "        #initialize weight for each layer\n",
    "        for i in range(1, len(layers) - 2):\n",
    "             #initialize weight of each hidden layer\n",
    "            self.weights.append((2*np.random.random((layers[i - 1] + 1, layers[i] + 1))-1)*0.25)\n",
    "        #initialize weight of output layer\n",
    "        self.weights.append((2*np.random.random((layers[len(layers) - 2] + 1, layers[len(layers) - 1]))-1)*0.25)     \n",
    "        \n",
    "    def train(self,x,t,learning_rate,n):\n",
    "        x = np.atleast_2d(x)\n",
    "        temp = np.ones([x.shape[0], x.shape[1]+1])    \n",
    "        temp[:, 0:-1] = x\n",
    "        x = temp           #x =[x1,x2...,xn,1]\n",
    "        t = np.array(t)\n",
    "        for j in range(n):   #trains n times\n",
    "                x_i = np.random.randint(x.shape[0])  #randomly choose one input from input dataset \n",
    "                forward=[x[x_i]]\n",
    "                #forward\n",
    "                for i in range(len(self.weights)):  \n",
    "                    forward.append(self.act(forward[i]@self.weights[i])) #f(x@w)  forward=[x,hidden,...hidden,output]\n",
    "                error = t[x_i] - forward[-1]    #e =t - output\n",
    "                #backward\n",
    "                deltas = [error * self.act_de(forward[-1])] #deltas = e * f'(output)  output layer dalta\n",
    "                for i in range(len(forward) - 2, 0, -1):    \n",
    "                    deltas.append(deltas[-1]@(self.weights[i].T)* self.act_de(forward[i])) #hidden layer dalta \n",
    "                deltas.reverse()                  #delta = [hidden_delta,..,output_delta]\n",
    "                for k in range(len(self.weights)):\n",
    "                    forward_k = np.atleast_2d(forward[k])\n",
    "                    delta_k = np.atleast_2d(deltas[k])\n",
    "                    self.weights[k] += learning_rate * forward_k.T@delta_k #update w = w + learningrate*x*delta\n",
    "            \n",
    "    def predict(self, x):\n",
    "        x = np.array(x)\n",
    "        temp = np.ones(x.shape[0]+1)\n",
    "        temp[0:-1] = x\n",
    "        forward = temp\n",
    "        for i in range(0, len(self.weights)):\n",
    "            forward = self.act(forward@self.weights[i])\n",
    "        return forward\n"
   ]
  },
  {
   "cell_type": "code",
   "execution_count": 6,
   "metadata": {},
   "outputs": [
    {
     "name": "stdout",
     "output_type": "stream",
     "text": [
      "[0.25814046, 0.56731529] [ 0.01514823]\n",
      "[0.59205048, 1.19667091] [ 0.08917554]\n",
      "[-0.90149496, 0.35255117] [ 0.98486834]\n",
      "[-0.95164463, 0.18759629] [ 0.83988394]\n",
      "[-0.97290831, 0.2405034] [ 0.92459241]\n"
     ]
    }
   ],
   "source": [
    "#traing with hole dataset\n",
    "list_x = []\n",
    "list_t = []\n",
    "net = neuralnetwork([2,4,4,4,1])\n",
    "for d in data:\n",
    "    x = d[0:2]\n",
    "    t = d[2]\n",
    "    list_x.append(x)\n",
    "    list_t.append(t)\n",
    "x = np.array(list_x)\n",
    "t = np.array(list_t)\n",
    "net.train(x,t,0.05,100000) #learning rate = 0.05\n",
    "for i in [[0.25814046,0.56731529], [ 0.59205048,1.19667091], \n",
    "          [-0.90149496,0.35255117], [-0.95164463,0.18759629],[-0.97290831,0.2405034]]:\n",
    "    print(i, net.predict(i))"
   ]
  },
  {
   "cell_type": "code",
   "execution_count": 14,
   "metadata": {},
   "outputs": [],
   "source": [
    "#training with 16 points\n",
    "list_x = []\n",
    "list_t = []\n",
    "net = neuralnetwork([2,200,1])\n",
    "k = 1\n",
    "for i in range (0,4):\n",
    "    for j in range(0,4):   \n",
    "        d = data[random.randint(100*k-100, 100*k-1)]\n",
    "        x = d[0:2]\n",
    "        t = d[2]\n",
    "        list_x.append(x)\n",
    "        list_t.append(t)\n",
    "        #print (list_t)\n",
    "    k += 1\n",
    "x = np.array(list_x)\n",
    "#print (x)\n",
    "t = np.array(list_t)\n",
    "#print (t)\n",
    "net.train(x,t,0.01,500000)"
   ]
  },
  {
   "cell_type": "code",
   "execution_count": 7,
   "metadata": {},
   "outputs": [
    {
     "name": "stdout",
     "output_type": "stream",
     "text": [
      "[array([[-2.62624645, -0.47896546, -3.67104857,  1.78160716,  0.75185419],\n",
      "       [-4.01902052,  0.46742816, -1.69625999, -1.88765618, -0.90228087],\n",
      "       [ 0.75216883, -2.0790067 , -1.69774142,  2.13501143,  0.45207322]]), array([[-0.06427714,  0.41814672, -1.27761486,  0.35514679,  0.03090333],\n",
      "       [-0.03587253,  0.0052003 ,  1.31224727,  1.33296931,  0.2764092 ],\n",
      "       [ 0.51138451, -0.52342579, -0.42671585,  1.53653228, -0.01222777],\n",
      "       [ 0.47002003, -0.10087029,  1.55738618,  1.34415568,  0.10392914],\n",
      "       [ 0.28468428,  0.00678705, -0.51249468,  0.05069108, -0.35445881]]), array([[-0.09651627],\n",
      "       [-0.24656495],\n",
      "       [-2.74775417],\n",
      "       [-2.7095409 ],\n",
      "       [-0.07480791]])]\n"
     ]
    }
   ],
   "source": [
    "print(net.weights)"
   ]
  },
  {
   "cell_type": "code",
   "execution_count": 8,
   "metadata": {
    "scrolled": true
   },
   "outputs": [],
   "source": [
    "def plot(data1):\n",
    "    X_list =[]\n",
    "    Z_list =[]\n",
    "    Y_list =[]\n",
    "    for d in data1:\n",
    "        X = d[0:2]\n",
    "        Y = d[2]\n",
    "        X_list.append(X)\n",
    "        Y_list.append(Y)\n",
    "    X = np.array(X_list)\n",
    "    x_min, x_max = X[:, 0].min() - .25, X[:, 0].max() + .25\n",
    "    y_min, y_max = X[:, 1].min() - .25, X[:, 1].max() + .25\n",
    "    h = 0.01\n",
    "    xx, yy = np.meshgrid(np.arange(x_min, x_max, h),\n",
    "                     np.arange(y_min, y_max, h))\n",
    "    xxx = np.c_[xx.ravel(), yy.ravel()]\n",
    "    print (xxx.shape)\n",
    "    for a in xxx:\n",
    "        Z = net.predict(a)\n",
    "        if Z>0.5:\n",
    "            Z =1\n",
    "        else:\n",
    "            Z = 0\n",
    "        Z_list.append(Z)\n",
    "    Z = np.array(Z_list)\n",
    "    Z = Z.reshape(xx.shape)\n",
    "# Plot the contour and training examples\n",
    "    plt.contourf(xx, yy, Z, cmap=plt.cm.Spectral)\n",
    "    X_1 = []\n",
    "    X_0 = [] \n",
    "    for i in range(0,len(X)):\n",
    "        if Y_list[i] == 0:\n",
    "            X_1.append(X[i])\n",
    "        else:\n",
    "            X_0.append(X[i])\n",
    "    X_1 = np.array(X_1)\n",
    "    X_0 = np.array(X_0) \n",
    "    plt.scatter(X_1[:, 0], X_1[:, 1],c='w', cmap=plt.cm.Spectral)\n",
    "    plt.scatter(X_0[:, 0], X_0[:, 1],c='B', cmap=plt.cm.Spectral)\n",
    "    plt.title(' architectures: ' +str(net.layers))"
   ]
  },
  {
   "cell_type": "code",
   "execution_count": 9,
   "metadata": {},
   "outputs": [
    {
     "name": "stdout",
     "output_type": "stream",
     "text": [
      "(145432, 2)\n"
     ]
    },
    {
     "data": {
      "image/png": "iVBORw0KGgoAAAANSUhEUgAAAYAAAAEICAYAAABWJCMKAAAABHNCSVQICAgIfAhkiAAAAAlwSFlz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\nQmCC\n",
      "text/plain": [
       "<matplotlib.figure.Figure at 0x2c2d9f527f0>"
      ]
     },
     "metadata": {},
     "output_type": "display_data"
    }
   ],
   "source": [
    "plot(data)"
   ]
  }
 ],
 "metadata": {
  "kernelspec": {
   "display_name": "Python 3",
   "language": "python",
   "name": "python3"
  },
  "language_info": {
   "codemirror_mode": {
    "name": "ipython",
    "version": 3
   },
   "file_extension": ".py",
   "mimetype": "text/x-python",
   "name": "python",
   "nbconvert_exporter": "python",
   "pygments_lexer": "ipython3",
   "version": "3.6.2"
  }
 },
 "nbformat": 4,
 "nbformat_minor": 2
}
