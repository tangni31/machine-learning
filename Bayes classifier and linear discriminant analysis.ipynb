{
 "cells": [
  {
   "cell_type": "code",
   "execution_count": 2,
   "metadata": {},
   "outputs": [],
   "source": [
    "import numpy as np\n",
    "import math\n",
    "from time import time\n",
    "import matplotlib\n",
    "import matplotlib.pyplot as plt\n",
    "%matplotlib inline"
   ]
  },
  {
   "cell_type": "code",
   "execution_count": 3,
   "metadata": {},
   "outputs": [
    {
     "name": "stdout",
     "output_type": "stream",
     "text": [
      "[[  0.   20.6  14.4 ...,  19.6   1.    0. ]\n",
      " [  1.   13.3  11.1 ...,  11.3   1.    0. ]\n",
      " [  0.   16.7  14.3 ...,  14.7   0.    1. ]\n",
      " ..., \n",
      " [  1.    8.8   7.7 ...,   7.4   1.    0. ]\n",
      " [  1.   16.2  15.2 ...,  13.9   0.    1. ]\n",
      " [  0.   15.6  14.  ...,  13.8   0.    1. ]]\n"
     ]
    }
   ],
   "source": [
    "data = np.loadtxt('dataset5.txt')\n",
    "print (data)"
   ]
  },
  {
   "cell_type": "code",
   "execution_count": 4,
   "metadata": {},
   "outputs": [
    {
     "name": "stdout",
     "output_type": "stream",
     "text": [
      "(140, 8)\n"
     ]
    }
   ],
   "source": [
    "train = data[0]\n",
    "for i in range (1,140):\n",
    "    train = np.row_stack((train,data[i]))\n",
    "\n",
    "print(train.shape)"
   ]
  },
  {
   "cell_type": "code",
   "execution_count": 36,
   "metadata": {},
   "outputs": [],
   "source": [
    "#classify traning data\n",
    "class0 = []\n",
    "class1 = []\n",
    "for sample in train:\n",
    "    if sample[0] == 0:\n",
    "        class0.append(sample)\n",
    "    else:\n",
    "        class1.append(sample)\n",
    "class0 = np.array(class0)\n",
    "class1 = np.array(class1)  "
   ]
  },
  {
   "cell_type": "code",
   "execution_count": 117,
   "metadata": {},
   "outputs": [],
   "source": [
    "def compute_uj(data_set): #compute mean µ\n",
    "    nj = len(data_set)\n",
    "    data_set = np.delete(data_set,0,1)\n",
    "    sum = np.zeros(shape=(1,data_set.shape[1]))\n",
    "    for data in data_set:\n",
    "        sum += data\n",
    "    uj = sum/nj\n",
    "    uj = uj.T\n",
    "    return uj"
   ]
  },
  {
   "cell_type": "code",
   "execution_count": 118,
   "metadata": {},
   "outputs": [],
   "source": [
    "def compute_covj(uj,data_set): #compute covariance matrix\n",
    "    nj = len(data_set)\n",
    "    sum = np.zeros(shape=(7,7))\n",
    "    data_set = np.delete(data_set,0,1)\n",
    "    for data in data_set:#\n",
    "        a = np.zeros(shape=(1,7))\n",
    "        data = data+a\n",
    "        data = data.T\n",
    "        sum += (data-uj)@(data-uj).T\n",
    "        cov = sum/nj\n",
    "    return cov\n",
    "    "
   ]
  },
  {
   "cell_type": "code",
   "execution_count": 119,
   "metadata": {},
   "outputs": [],
   "source": [
    "def gx(x,u,cov): #discriminant function for problem 1\n",
    "    I = np.eye(7)\n",
    "    cov_inv = np.linalg.inv(cov+0.0001*I)\n",
    "    gx =  -0.5*(x-u).T@cov_inv@(x-u)- 7/2*math.log(2*math.pi)-1/2*math.log(abs(np.linalg.det(cov)))+math.log(0.5)\n",
    "    return gx\n",
    "            "
   ]
  },
  {
   "cell_type": "code",
   "execution_count": 120,
   "metadata": {},
   "outputs": [],
   "source": [
    "u0 = compute_uj(class0)\n",
    "u1 = compute_uj(class1)\n",
    "cov0 = compute_covj(u0,class0)\n",
    "cov1 = compute_covj(u1,class1)\n"
   ]
  },
  {
   "cell_type": "code",
   "execution_count": 121,
   "metadata": {},
   "outputs": [
    {
     "name": "stdout",
     "output_type": "stream",
     "text": [
      "(140, 7)\n"
     ]
    }
   ],
   "source": [
    "test = data[140]\n",
    "for i in range (141,200):\n",
    "    test = np.row_stack((test,data[i]))\n",
    "#print(test.shape)\n",
    "test_x = np.delete(test,0,1)\n",
    "train_x = np.delete(train,0,1)\n",
    "print(train_x.shape)"
   ]
  },
  {
   "cell_type": "code",
   "execution_count": 128,
   "metadata": {},
   "outputs": [
    {
     "name": "stdout",
     "output_type": "stream",
     "text": [
      "0.024564743041992188\n",
      "[0, 1, 0, 1, 0, 1, 0, 1, 1, 0, 0, 0, 0, 1, 1, 0, 1, 0, 0, 0, 1, 1, 0, 0, 0, 1, 0, 1, 1, 0, 1, 0, 0, 1, 1, 1, 0, 1, 0, 1, 1, 0, 1, 0, 1, 0, 1, 1, 0, 0, 0, 0, 0, 0, 1, 0, 0, 1, 1, 1, 1, 1, 1, 1, 0, 1, 0, 1, 0, 0, 1, 0, 0, 1, 1, 1, 0, 0, 0, 1, 1, 0, 0, 0, 1, 1, 0, 1, 0, 0, 1, 1, 1, 1, 1, 1, 1, 0, 1, 1, 0, 0, 0, 1, 0, 0, 0, 1, 1, 0, 1, 0, 1, 1, 1, 1, 1, 0, 0, 1, 1, 0, 0, 1, 0, 0, 0, 0, 0, 1, 1, 0, 0, 0, 0, 0, 1, 0, 1, 0, 0, 0, 1, 1, 1, 0, 1, 0, 0, 0, 0, 1, 0, 1, 0, 0, 1, 0, 0, 1, 1, 0, 0, 1, 1, 1, 0, 0, 1, 1, 0, 1, 1, 1, 1, 0, 1, 0, 0, 1, 1, 1, 1, 1, 1, 0, 1, 1, 0, 1, 0, 0, 0, 0, 0, 1, 1, 1, 1, 0]\n",
      "100\n",
      "[ 0.  1.  0.  1.  0.  1.  0.  1.  1.  0.  0.  0.  0.  1.  1.  0.  1.  0.\n",
      "  0.  0.  1.  1.  0.  0.  0.  1.  0.  1.  1.  0.  1.  0.  0.  1.  1.  1.\n",
      "  0.  1.  0.  1.  1.  0.  1.  0.  1.  0.  1.  1.  0.  0.  0.  0.  0.  0.\n",
      "  1.  0.  0.  1.  1.  1.  1.  1.  1.  1.  0.  1.  0.  1.  0.  0.  1.  0.\n",
      "  0.  1.  1.  1.  0.  0.  0.  1.  1.  0.  0.  0.  1.  1.  0.  1.  0.  0.\n",
      "  1.  1.  1.  1.  1.  1.  1.  0.  1.  1.  0.  0.  0.  1.  0.  0.  0.  1.\n",
      "  1.  0.  1.  0.  1.  1.  1.  1.  1.  0.  0.  1.  1.  0.  0.  1.  0.  0.\n",
      "  0.  0.  0.  1.  1.  0.  0.  0.  0.  0.  1.  0.  1.  0.  0.  0.  1.  1.\n",
      "  1.  0.  1.  0.  0.  0.  0.  1.  0.  1.  0.  0.  1.  0.  0.  1.  1.  0.\n",
      "  0.  1.  1.  1.  0.  0.  1.  1.  0.  1.  1.  1.  1.  0.  1.  0.  0.  1.\n",
      "  1.  1.  1.  1.  1.  0.  1.  1.  0.  1.  0.  0.  0.  0.  0.  1.  1.  1.\n",
      "  1.  0.]\n",
      "100.0\n"
     ]
    }
   ],
   "source": [
    "#classify and compute time for problem 1\n",
    "test_y = []\n",
    "begin = time()\n",
    "data_x = np.delete(data,0,1)###\n",
    "for x in data_x:###\n",
    "    a = np.zeros(shape=(1,7))\n",
    "    x = x+a\n",
    "    x = x.T\n",
    "    gx0 = gx(x,u0,cov0)\n",
    "    gx1 = gx(x,u1,cov1)\n",
    "    if gx0 > gx1:\n",
    "        test_y.append(0)\n",
    "    else:\n",
    "        test_y.append(1)\n",
    "end = time()\n",
    "total_time = end -begin\n",
    "print(total_time)\n",
    "print (test_y)\n",
    "sum = 0\n",
    "for i in test_y:\n",
    "    sum += i\n",
    "print (sum)\n",
    "test_y_real = data[:,0]#####\n",
    "print(test_y_real)\n",
    "sum2 = 0\n",
    "for i in test_y_real:\n",
    "    sum2 += i\n",
    "print (sum2)"
   ]
  },
  {
   "cell_type": "code",
   "execution_count": 89,
   "metadata": {},
   "outputs": [
    {
     "name": "stdout",
     "output_type": "stream",
     "text": [
      "[ 0.  0.  0.  0.  0.  0.  0.  0.  0.  0.  0.  0.  0.  0.  0.  0.  0.  0.\n",
      "  0.  0.  0.  0.  0.  0.  0.  0.  0.  0.  0.  0.  0.  0.  0.  0.  0.  0.\n",
      "  0.  0.  0.  0.  0.  0.  0.  0.  0.  0.  0.  0.  0.  0.  0.  0.  0.  0.\n",
      "  0.  0.  0.  0.  0.  0.]\n"
     ]
    }
   ],
   "source": [
    "test_y = np.array(test_y)\n",
    "print (test_y-test_y_real)"
   ]
  },
  {
   "cell_type": "code",
   "execution_count": 138,
   "metadata": {},
   "outputs": [],
   "source": [
    "#discriminant function \n",
    "def gx_lda(x,u0,cov0,u1,cov1,t):\n",
    "    cov_inv = np.linalg.inv(cov0+cov1)\n",
    "    I = np.eye(7)\n",
    "    cov0_inv = np.linalg.inv(cov0+0.00001*I)\n",
    "    cov1_inv = np.linalg.inv(cov1+0.00001*I)\n",
    "    gx = cov_inv@(u1-u0)  \n",
    "    gx = gx.T@x\n",
    "    gx = gx - 1/4*(u0.T@cov0_inv@u0 - u1.T@cov1_inv@u1 + t)\n",
    "    return gx"
   ]
  },
  {
   "cell_type": "code",
   "execution_count": 152,
   "metadata": {},
   "outputs": [
    {
     "name": "stdout",
     "output_type": "stream",
     "text": [
      "0.026081085205078125\n",
      "[0, 1, 0, 1, 0, 1, 0, 1, 1, 0, 0, 0, 0, 1, 1, 0, 1, 0, 0, 0, 1, 1, 0, 0, 0, 1, 0, 1, 1, 0, 1, 0, 0, 1, 1, 1, 0, 1, 0, 1, 1, 0, 1, 0, 1, 0, 1, 1, 0, 0, 0, 0, 0, 0, 1, 0, 0, 1, 1, 1, 1, 1, 1, 1, 0, 1, 0, 1, 0, 0, 1, 0, 0, 1, 1, 1, 0, 0, 0, 1, 1, 0, 0, 0, 1, 1, 0, 1, 0, 0, 1, 1, 1, 1, 1, 1, 1, 0, 1, 1, 0, 0, 0, 1, 0, 0, 0, 1, 1, 0, 1, 0, 1, 1, 1, 1, 1, 0, 0, 1, 1, 0, 0, 1, 0, 0, 0, 0, 0, 1, 1, 0, 0, 0, 0, 0, 1, 0, 1, 0, 0, 0, 1, 1, 1, 0, 1, 0, 0, 0, 0, 1, 0, 1, 0, 0, 1, 0, 0, 1, 1, 0, 0, 1, 1, 1, 0, 0, 1, 1, 0, 1, 1, 1, 1, 0, 1, 0, 0, 1, 1, 1, 1, 1, 1, 0, 1, 1, 0, 1, 0, 0, 0, 0, 0, 1, 1, 1, 1, 0]\n",
      "100\n",
      "[ 0.  1.  0.  1.  0.  1.  0.  1.  1.  0.  0.  0.  0.  1.  1.  0.  1.  0.\n",
      "  0.  0.  1.  1.  0.  0.  0.  1.  0.  1.  1.  0.  1.  0.  0.  1.  1.  1.\n",
      "  0.  1.  0.  1.  1.  0.  1.  0.  1.  0.  1.  1.  0.  0.  0.  0.  0.  0.\n",
      "  1.  0.  0.  1.  1.  1.  1.  1.  1.  1.  0.  1.  0.  1.  0.  0.  1.  0.\n",
      "  0.  1.  1.  1.  0.  0.  0.  1.  1.  0.  0.  0.  1.  1.  0.  1.  0.  0.\n",
      "  1.  1.  1.  1.  1.  1.  1.  0.  1.  1.  0.  0.  0.  1.  0.  0.  0.  1.\n",
      "  1.  0.  1.  0.  1.  1.  1.  1.  1.  0.  0.  1.  1.  0.  0.  1.  0.  0.\n",
      "  0.  0.  0.  1.  1.  0.  0.  0.  0.  0.  1.  0.  1.  0.  0.  0.  1.  1.\n",
      "  1.  0.  1.  0.  0.  0.  0.  1.  0.  1.  0.  0.  1.  0.  0.  1.  1.  0.\n",
      "  0.  1.  1.  1.  0.  0.  1.  1.  0.  1.  1.  1.  1.  0.  1.  0.  0.  1.\n",
      "  1.  1.  1.  1.  1.  0.  1.  1.  0.  1.  0.  0.  0.  0.  0.  1.  1.  1.\n",
      "  1.  0.]\n",
      "100.0\n"
     ]
    }
   ],
   "source": [
    "#classify and compute time \n",
    "test_y = []\n",
    "list =[]\n",
    "begin = time()\n",
    "data_x = np.delete(data,0,1)\n",
    "u0 = compute_uj(class0)\n",
    "u1 = compute_uj(class1)\n",
    "cov0 = compute_covj(u0,class0)\n",
    "cov1 = compute_covj(u1,class1)\n",
    "for x in data_x:###\n",
    "    a = np.zeros(shape=(1,7))\n",
    "    x = x+a\n",
    "    x = x.T\n",
    "    t =-32\n",
    "    gx = gx_lda(x,u0,cov0,u1,cov1,t)\n",
    "    list.append(gx)     \n",
    "    if gx>0:\n",
    "        test_y.append(1)\n",
    "    else:\n",
    "        test_y.append(0)\n",
    "end = time()\n",
    "total_time = end -begin\n",
    "print(total_time)\n",
    "print (test_y)\n",
    "sum = 0\n",
    "for i in test_y:\n",
    "    sum += i\n",
    "print (sum)\n",
    "test_y_real =data[:,0]\n",
    "print(test_y_real)\n",
    "sum2 = 0\n",
    "for i in test_y_real:\n",
    "    sum2 += i\n",
    "print (sum2)"
   ]
  },
  {
   "cell_type": "code",
   "execution_count": 146,
   "metadata": {},
   "outputs": [
    {
     "name": "stdout",
     "output_type": "stream",
     "text": [
      "[ 0.  0.  0.  0.  0.  0.  0.  0.  0.  0.  0.  0.  0.  0.  0.  0.  0.  0.\n",
      "  0.  0.  0.  0.  0.  0.  0.  0.  0.  0.  0.  0.  0.  0.  0.  0.  0.  0.\n",
      "  0.  0.  0.  0.  0.  0.  0.  0.  0.  0.  0.  0.  0.  0.  0.  0.  0.  0.\n",
      "  0.  0.  0.  0.  0.  0.  0.  0.  0.  0.  0.  0.  0.  0.  0.  0.  0.  0.\n",
      "  0.  0.  0.  0.  0.  0.  0.  0.  0.  0.  0.  0.  0.  0.  0.  0.  0.  0.\n",
      "  0.  0.  0.  0.  0.  0.  0.  0.  0.  0.  0.  0.  0.  0.  0.  0.  0.  0.\n",
      "  0.  0.  0.  0.  0.  0.  0.  0.  0.  0.  0.  0.  0.  0.  0.  0.  0.  0.\n",
      "  0.  0.  0.  0.  0.  0.  0.  0.  0.  0.  0.  0.  0.  0.  0.  0.  0.  0.\n",
      "  0.  0.  0.  0.  0.  0.  0.  0.  0.  0.  0.  0.  0.  0.  0.  0.  0.  0.\n",
      "  0.  0.  0.  0.  0.  0.  0.  0.  0.  0.  0.  0.  0.  0.  0.  0.  0.  0.\n",
      "  0.  0.  0.  0.  0.  0.  0.  0.  0.  0.  0.  0.  0.  0.  0.  0.  0.  0.\n",
      "  0.  0.]\n"
     ]
    }
   ],
   "source": []
  },
  {
   "cell_type": "code",
   "execution_count": 36,
   "metadata": {},
   "outputs": [
    {
     "name": "stdout",
     "output_type": "stream",
     "text": [
      "140\n"
     ]
    },
    {
     "data": {
      "text/plain": [
       "<matplotlib.text.Text at 0x261ee0de780>"
      ]
     },
     "execution_count": 36,
     "metadata": {},
     "output_type": "execute_result"
    },
    {
     "data": {
      "image/png": "[encoded data removed]",
      "text/plain": [
       "<matplotlib.figure.Figure at 0x261ee07d748>"
      ]
     },
     "metadata": {},
     "output_type": "display_data"
    }
   ],
   "source": [
    "list_0=[]\n",
    "list_1=[]\n",
    "for i in range (0,140):\n",
    "    if test_y_real[i] == 0:\n",
    "        list_0.append(list[i])\n",
    "    else:\n",
    "        list_1.append(list[i])\n",
    "print(len(list))       \n",
    "xrange1 = np.arange(0,len(list_0))       \n",
    "plt.scatter(xrange1,list_0, color = \"orange\",label=\"class 0\")\n",
    "xrange2 = np.arange(0,len(list_1))       \n",
    "plt.scatter(xrange2,list_1, color = \"red\",label=\"class 1\")\n",
    "xrange3 = np.arange(-5,75)\n",
    "y = 0*xrange3 -11\n",
    "plt.plot(xrange3,y, color = \"blue\",label=\" decision surface\")\n",
    "plt.legend(loc='upper left')\n",
    "plt.title('Training set (Σ0 +Σ1)−1 (µ1 − µ0)·x')"
   ]
  },
  {
   "cell_type": "code",
   "execution_count": 142,
   "metadata": {},
   "outputs": [
    {
     "name": "stdout",
     "output_type": "stream",
     "text": [
      "[[-9.77606053]]\n"
     ]
    }
   ],
   "source": []
  },
  {
   "cell_type": "code",
   "execution_count": 4,
   "metadata": {},
   "outputs": [
    {
     "name": "stdout",
     "output_type": "stream",
     "text": [
      "(1, 3)\n"
     ]
    }
   ],
   "source": []
  },
  {
   "cell_type": "code",
   "execution_count": null,
   "metadata": {},
   "outputs": [],
   "source": []
  }
 ],
 "metadata": {
  "kernelspec": {
   "display_name": "Python 3",
   "language": "python",
   "name": "python3"
  },
  "language_info": {
   "codemirror_mode": {
    "name": "ipython",
    "version": 3
   },
   "file_extension": ".py",
   "mimetype": "text/x-python",
   "name": "python",
   "nbconvert_exporter": "python",
   "pygments_lexer": "ipython3",
   "version": "3.6.2"
  }
 },
 "nbformat": 4,
 "nbformat_minor": 2
}
