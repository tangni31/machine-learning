{
 "cells": [
  {
   "cell_type": "code",
   "execution_count": 2,
   "metadata": {},
   "outputs": [],
   "source": [
    "import numpy as np\n",
    "import matplotlib\n",
    "import math\n",
    "import matplotlib.pyplot as plt\n",
    "%matplotlib inline"
   ]
  },
  {
   "cell_type": "code",
   "execution_count": 3,
   "metadata": {
    "scrolled": true
   },
   "outputs": [
    {
     "name": "stdout",
     "output_type": "stream",
     "text": [
      "[[ 0.14312972  5.99923589  3.28117724  4.85942456  2.76031438]\n",
      " [-0.22836165  6.33846814  1.25655149  3.04360083  3.34139874]\n",
      " [ 0.52717013  5.51795428  1.72203474  4.75461936  3.74163305]\n",
      " ..., \n",
      " [ 0.59767314  4.50230892  2.83994059  6.70687526  2.13694945]\n",
      " [ 1.9429948   4.78106102  2.68362201  5.53314876  2.81631195]\n",
      " [ 1.1256556   4.39106783  2.06027088  3.01530772  1.0690636 ]]\n",
      "(1000, 5)\n"
     ]
    }
   ],
   "source": [
    "data = np.loadtxt('GMDataSet.txt')\n",
    "print(data)\n",
    "print(data.shape)"
   ]
  },
  {
   "cell_type": "code",
   "execution_count": 4,
   "metadata": {},
   "outputs": [],
   "source": [
    "def initialize(data,k):\n",
    "    expectation = np.zeros((k,data.shape[0]))\n",
    "    ppi = np.zeros(shape=(k,1))\n",
    "    miu = np.zeros(shape=(k,data.shape[1]))\n",
    "    sigma = np.zeros(shape=(k,data.shape[1],data.shape[1]))\n",
    "    for i in range(0,k):\n",
    "        ppi[i][0] = float(1/k)\n",
    "        n = int(data.shape[0]/k)\n",
    "        for j in range(0,data.shape[1]):\n",
    "            miu[i][j] = (sum(data[i*n:(i+1)*n,j]))/n\n",
    "        sum_cov = np.zeros(shape=(data.shape[1],data.shape[1]))\n",
    "        for x in range(i*n,(i+1)*n):\n",
    "            datax = data[x] + np.zeros([1,5])\n",
    "            sum_cov += (datax - miu[i]).T @ (datax - miu[i])\n",
    "        sigma[i] = sum_cov/n\n",
    "    return ppi,miu,sigma,expectation       "
   ]
  },
  {
   "cell_type": "code",
   "execution_count": 24,
   "metadata": {},
   "outputs": [],
   "source": [
    "def e_step(data,ppi,miu,sigma,expectation,k):\n",
    "    for i in range(0,data.shape[0]):\n",
    "        denominator = 0\n",
    "        numerator = 0\n",
    "        datax = data[i] + np.zeros([1,5])\n",
    "        for j in range(0,k):\n",
    "            sigma_inv = np.linalg.inv(sigma[j]+0.0001*np.eye(sigma[j].shape[0]))\n",
    "            denominator += math.exp(-1/2*((datax-miu[j])@sigma_inv@(datax-miu[j]).T))\n",
    "        for j in range(0,k):\n",
    "            sigma_inv = np.linalg.inv(sigma[j]+0.0001*np.eye(sigma[j].shape[0]))\n",
    "            numerator = math.exp(-1/2*((datax-miu[j])@sigma_inv@(datax-miu[j]).T))\n",
    "            expectation[j,i] = numerator / denominator\n",
    "            #print(expectation[j,i])\n",
    "    return expectation"
   ]
  },
  {
   "cell_type": "code",
   "execution_count": 6,
   "metadata": {},
   "outputs": [],
   "source": [
    "def m_step(data,ppi,miu,sigma,expectation,k):\n",
    "    for j in range(0,k):\n",
    "        numerator_miu  = 0\n",
    "        numerator_pi = 0\n",
    "        numerator_sigma = 0\n",
    "        denominator = 0\n",
    "        for i in range(0,data.shape[0]): # update miu pi sigma\n",
    "            datax = data[i] + np.zeros([1,5])\n",
    "            numerator_miu += expectation[j,i] * datax\n",
    "            numerator_pi += expectation[j,i]\n",
    "            numerator_sigma += expectation[j,i] * ((datax-miu[j]).T@(datax-miu[j]))\n",
    "            denominator += expectation[j,i]\n",
    "        miu[j] = numerator_miu / denominator\n",
    "        ppi[j] = numerator_pi / data.shape[0]\n",
    "        sigma[j] = numerator_sigma / denominator\n",
    "    return ppi,miu,sigma            "
   ]
  },
  {
   "cell_type": "code",
   "execution_count": 7,
   "metadata": {},
   "outputs": [],
   "source": [
    "def em(data,k,iter_num,epsilon):\n",
    "    ppi,miu,sigma,expectation = initialize(data,k)    \n",
    "    for i in range(0,iter_num):\n",
    "        old_ppi = np.zeros(shape=(k,1))\n",
    "        old_miu = np.zeros(shape=(k,data.shape[1]))\n",
    "        old_sigma = np.zeros(shape=(k,data.shape[1],data.shape[1]))\n",
    "        old_ppi = old_ppi + ppi\n",
    "        old_miu = old_miu + miu\n",
    "        old_sigma = old_sigma + sigma\n",
    "        expectation = e_step(data,ppi,miu,sigma,expectation,k)\n",
    "        ppi,miu,sigma = m_step(data,ppi,miu,sigma,expectation,k)\n",
    "        if abs(np.sum(abs(old_ppi - ppi)))<epsilon and abs(np.sum(abs(old_miu - miu)))<epsilon and abs(np.sum(abs(old_sigma - sigma)))<epsilon:\n",
    "            print('convergence')\n",
    "            print ('iteration times:',i)           \n",
    "            return ppi,miu,sigma\n",
    "    print('reach iteration times')   \n",
    "    return ppi,miu,sigma"
   ]
  },
  {
   "cell_type": "code",
   "execution_count": 34,
   "metadata": {
    "scrolled": false
   },
   "outputs": [
    {
     "name": "stdout",
     "output_type": "stream",
     "text": [
      "convergence\n",
      "iteration times: 59\n",
      "[[ 0.00121564]\n",
      " [ 0.57445725]\n",
      " [ 0.42432711]]\n"
     ]
    }
   ],
   "source": [
    "new_ppi,new_miu,new_sigma = em(data,3,1000,0.0001)\n",
    "print(new_ppi)"
   ]
  },
  {
   "cell_type": "code",
   "execution_count": 35,
   "metadata": {},
   "outputs": [
    {
     "name": "stdout",
     "output_type": "stream",
     "text": [
      "[[  5.83828151e-01   4.19328414e+00   3.38978970e+00   5.10272710e+00\n",
      "    3.31517071e+00]\n",
      " [  4.74024961e-03   4.96942397e+00   2.55305411e+00   4.11288623e+00\n",
      "    3.06560502e+00]\n",
      " [  1.16415031e+00   5.03638394e+00   2.47070467e+00   3.75665143e+00\n",
      "    1.84639988e+00]]\n"
     ]
    }
   ],
   "source": [
    "print(new_miu)"
   ]
  },
  {
   "cell_type": "code",
   "execution_count": 36,
   "metadata": {
    "scrolled": true
   },
   "outputs": [
    {
     "name": "stdout",
     "output_type": "stream",
     "text": [
      "[[[  1.61636928e-02  -9.60487074e-04  -7.50576366e-03   1.36074736e-02\n",
      "    -1.94716641e-02]\n",
      "  [ -9.60487074e-04   5.70745455e-05   4.46011259e-04  -8.08590137e-04\n",
      "     1.15705501e-03]\n",
      "  [ -7.50576366e-03   4.46011259e-04   3.48537236e-03  -6.31875912e-03\n",
      "     9.04185142e-03]\n",
      "  [  1.36074736e-02  -8.08590137e-04  -6.31875912e-03   1.14555097e-02\n",
      "    -1.63923034e-02]\n",
      "  [ -1.94716641e-02   1.15705501e-03   9.04185142e-03  -1.63923034e-02\n",
      "     2.34566263e-02]]\n",
      "\n",
      " [[  1.26372123e+00   1.58729468e-02   4.21472865e-01   9.63178107e-01\n",
      "     3.84657677e-03]\n",
      "  [  1.58729468e-02   5.52574258e-01  -2.03237364e-02  -5.44766191e-02\n",
      "     8.79090159e-03]\n",
      "  [  4.21472865e-01  -2.03237364e-02   6.17940595e-01   4.73058303e-01\n",
      "    -1.68321685e-02]\n",
      "  [  9.63178107e-01  -5.44766191e-02   4.73058303e-01   1.68661508e+00\n",
      "     1.24816234e-03]\n",
      "  [  3.84657677e-03   8.79090159e-03  -1.68321685e-02   1.24816234e-03\n",
      "     4.60174206e-01]]\n",
      "\n",
      " [[  4.03153622e-01   8.34294632e-03   4.69348091e-02   7.47410220e-02\n",
      "     1.23836144e-01]\n",
      "  [  8.34294632e-03   4.55987553e-01   1.17201688e-02  -1.98897783e-02\n",
      "    -4.18117479e-02]\n",
      "  [  4.69348091e-02   1.17201688e-02   5.63037162e-01   4.65121223e-01\n",
      "     4.73204325e-01]\n",
      "  [  7.47410220e-02  -1.98897783e-02   4.65121223e-01   1.34077791e+00\n",
      "     9.69704344e-01]\n",
      "  [  1.23836144e-01  -4.18117479e-02   4.73204325e-01   9.69704344e-01\n",
      "     1.42940756e+00]]]\n"
     ]
    }
   ],
   "source": [
    "print(new_sigma)"
   ]
  },
  {
   "cell_type": "code",
   "execution_count": null,
   "metadata": {},
   "outputs": [],
   "source": []
  },
  {
   "cell_type": "code",
   "execution_count": null,
   "metadata": {},
   "outputs": [],
   "source": []
  }
 ],
 "metadata": {
  "kernelspec": {
   "display_name": "Python 3",
   "language": "python",
   "name": "python3"
  },
  "language_info": {
   "codemirror_mode": {
    "name": "ipython",
    "version": 3
   },
   "file_extension": ".py",
   "mimetype": "text/x-python",
   "name": "python",
   "nbconvert_exporter": "python",
   "pygments_lexer": "ipython3",
   "version": "3.6.2"
  }
 },
 "nbformat": 4,
 "nbformat_minor": 2
}
